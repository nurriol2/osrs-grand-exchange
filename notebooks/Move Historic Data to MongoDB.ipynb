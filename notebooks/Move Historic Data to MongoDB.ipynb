{
 "cells": [
  {
   "cell_type": "markdown",
   "metadata": {},
   "source": [
    "As this is the *N-th* iteration of this project, data files are currently all over the place. In this notebook, I hope to consolidate as much historic data that I have as possible and migrate it to a single MongoDB cluster."
   ]
  },
  {
   "cell_type": "markdown",
   "metadata": {},
   "source": [
    "# MongoDB Setup #\n",
    "\n",
    "Now it's time to move these cleaned files into a MongoDB database"
   ]
  },
  {
   "cell_type": "code",
   "execution_count": 1,
   "metadata": {},
   "outputs": [
    {
     "data": {
      "text/plain": [
       "True"
      ]
     },
     "execution_count": 1,
     "metadata": {},
     "output_type": "execute_result"
    }
   ],
   "source": [
    "import os\n",
    "import re\n",
    "from dotenv import load_dotenv\n",
    "from pymongo import MongoClient\n",
    "\n",
    "load_dotenv()"
   ]
  },
  {
   "cell_type": "code",
   "execution_count": 2,
   "metadata": {},
   "outputs": [],
   "source": [
    "#assigning environment variables\n",
    "\n",
    "#MONGODB_URL inside .env file\n",
    "MONGODB_URL = os.getenv(\"MONGODB_URL\")\n",
    "CLUSTER = os.getenv(\"CLUSTER\")"
   ]
  },
  {
   "cell_type": "code",
   "execution_count": 3,
   "metadata": {},
   "outputs": [],
   "source": [
    "#connect to MongoDB\n",
    "client = MongoClient(MONGODB_URL)\n",
    "db = client[CLUSTER]"
   ]
  },
  {
   "cell_type": "markdown",
   "metadata": {},
   "source": [
    "# Cleaning Column Names and Datatypes #"
   ]
  },
  {
   "cell_type": "markdown",
   "metadata": {},
   "source": [
    "## Old School Bond ##"
   ]
  },
  {
   "cell_type": "code",
   "execution_count": 4,
   "metadata": {},
   "outputs": [],
   "source": [
    "import pandas as pd\n",
    "import numpy as np"
   ]
  },
  {
   "cell_type": "code",
   "execution_count": 5,
   "metadata": {},
   "outputs": [],
   "source": [
    "#the largest old school bond data set\n",
    "bond_df = pd.read_csv(\"hist_data/old_school_bond_appended.csv\")\n",
    "bond_df_copy = bond_df.copy()"
   ]
  },
  {
   "cell_type": "code",
   "execution_count": 6,
   "metadata": {
    "scrolled": true
   },
   "outputs": [
    {
     "data": {
      "text/html": [
       "<div>\n",
       "<style scoped>\n",
       "    .dataframe tbody tr th:only-of-type {\n",
       "        vertical-align: middle;\n",
       "    }\n",
       "\n",
       "    .dataframe tbody tr th {\n",
       "        vertical-align: top;\n",
       "    }\n",
       "\n",
       "    .dataframe thead th {\n",
       "        text-align: right;\n",
       "    }\n",
       "</style>\n",
       "<table border=\"1\" class=\"dataframe\">\n",
       "  <thead>\n",
       "    <tr style=\"text-align: right;\">\n",
       "      <th></th>\n",
       "      <th>Index</th>\n",
       "      <th>Timestamps_close</th>\n",
       "      <th>Close</th>\n",
       "      <th>Timestamps_average</th>\n",
       "      <th>Average</th>\n",
       "    </tr>\n",
       "  </thead>\n",
       "  <tbody>\n",
       "    <tr>\n",
       "      <th>0</th>\n",
       "      <td>0</td>\n",
       "      <td>2020/04/08</td>\n",
       "      <td>4134618</td>\n",
       "      <td>2020/04/08</td>\n",
       "      <td>4522980</td>\n",
       "    </tr>\n",
       "    <tr>\n",
       "      <th>1</th>\n",
       "      <td>1</td>\n",
       "      <td>2020/04/09</td>\n",
       "      <td>4009639</td>\n",
       "      <td>2020/04/09</td>\n",
       "      <td>4501601</td>\n",
       "    </tr>\n",
       "    <tr>\n",
       "      <th>2</th>\n",
       "      <td>2</td>\n",
       "      <td>2020/04/10</td>\n",
       "      <td>3903868</td>\n",
       "      <td>2020/04/10</td>\n",
       "      <td>4473252</td>\n",
       "    </tr>\n",
       "    <tr>\n",
       "      <th>3</th>\n",
       "      <td>3</td>\n",
       "      <td>2020/04/11</td>\n",
       "      <td>3853462</td>\n",
       "      <td>2020/04/11</td>\n",
       "      <td>4442300</td>\n",
       "    </tr>\n",
       "    <tr>\n",
       "      <th>4</th>\n",
       "      <td>4</td>\n",
       "      <td>2020/04/12</td>\n",
       "      <td>3941327</td>\n",
       "      <td>2020/04/12</td>\n",
       "      <td>4415261</td>\n",
       "    </tr>\n",
       "  </tbody>\n",
       "</table>\n",
       "</div>"
      ],
      "text/plain": [
       "   Index Timestamps_close    Close Timestamps_average  Average\n",
       "0      0       2020/04/08  4134618         2020/04/08  4522980\n",
       "1      1       2020/04/09  4009639         2020/04/09  4501601\n",
       "2      2       2020/04/10  3903868         2020/04/10  4473252\n",
       "3      3       2020/04/11  3853462         2020/04/11  4442300\n",
       "4      4       2020/04/12  3941327         2020/04/12  4415261"
      ]
     },
     "execution_count": 6,
     "metadata": {},
     "output_type": "execute_result"
    }
   ],
   "source": [
    "bond_df.head()"
   ]
  },
  {
   "cell_type": "markdown",
   "metadata": {},
   "source": [
    "**Problems**\n",
    "- There are 2 timestamp columns\n",
    "- There is a seccond Index column\n",
    "- Timestamp column names are named strangely\n",
    "- Timestamps are probably strings, not a date object"
   ]
  },
  {
   "cell_type": "markdown",
   "metadata": {},
   "source": [
    "## Fixing Timestamps ##"
   ]
  },
  {
   "cell_type": "code",
   "execution_count": 7,
   "metadata": {},
   "outputs": [
    {
     "data": {
      "text/plain": [
       "Series([], dtype: bool)"
      ]
     },
     "execution_count": 7,
     "metadata": {},
     "output_type": "execute_result"
    }
   ],
   "source": [
    "#check that timestamp columns are identical\n",
    "close_ts = bond_df[\"Timestamps_close\"]\n",
    "avg_ts = bond_df[\"Timestamps_average\"]\n",
    "truthy = close_ts == avg_ts\n",
    "where = truthy[truthy==False]\n",
    "where #these timestamps are certainly all the same and .:. redundant"
   ]
  },
  {
   "cell_type": "code",
   "execution_count": 8,
   "metadata": {},
   "outputs": [
    {
     "data": {
      "text/plain": [
       "str"
      ]
     },
     "execution_count": 8,
     "metadata": {},
     "output_type": "execute_result"
    }
   ],
   "source": [
    "#what's the data type for the timestamps?\n",
    "type(bond_df[\"Timestamps_close\"][0]) #convert to datetime objects"
   ]
  },
  {
   "cell_type": "code",
   "execution_count": 9,
   "metadata": {},
   "outputs": [],
   "source": [
    "bond_df[\"Timestamps_close\"] = pd.to_datetime(bond_df[\"Timestamps_close\"])"
   ]
  },
  {
   "cell_type": "code",
   "execution_count": 10,
   "metadata": {},
   "outputs": [
    {
     "data": {
      "text/plain": [
       "pandas._libs.tslibs.timestamps.Timestamp"
      ]
     },
     "execution_count": 10,
     "metadata": {},
     "output_type": "execute_result"
    }
   ],
   "source": [
    "type(bond_df[\"Timestamps_close\"][9])"
   ]
  },
  {
   "cell_type": "code",
   "execution_count": 11,
   "metadata": {
    "scrolled": true
   },
   "outputs": [
    {
     "data": {
      "text/html": [
       "<div>\n",
       "<style scoped>\n",
       "    .dataframe tbody tr th:only-of-type {\n",
       "        vertical-align: middle;\n",
       "    }\n",
       "\n",
       "    .dataframe tbody tr th {\n",
       "        vertical-align: top;\n",
       "    }\n",
       "\n",
       "    .dataframe thead th {\n",
       "        text-align: right;\n",
       "    }\n",
       "</style>\n",
       "<table border=\"1\" class=\"dataframe\">\n",
       "  <thead>\n",
       "    <tr style=\"text-align: right;\">\n",
       "      <th></th>\n",
       "      <th>Index</th>\n",
       "      <th>Timestamps_close</th>\n",
       "      <th>Close</th>\n",
       "      <th>Timestamps_average</th>\n",
       "      <th>Average</th>\n",
       "    </tr>\n",
       "  </thead>\n",
       "  <tbody>\n",
       "    <tr>\n",
       "      <th>0</th>\n",
       "      <td>0</td>\n",
       "      <td>2020-04-08</td>\n",
       "      <td>4134618</td>\n",
       "      <td>2020/04/08</td>\n",
       "      <td>4522980</td>\n",
       "    </tr>\n",
       "    <tr>\n",
       "      <th>1</th>\n",
       "      <td>1</td>\n",
       "      <td>2020-04-09</td>\n",
       "      <td>4009639</td>\n",
       "      <td>2020/04/09</td>\n",
       "      <td>4501601</td>\n",
       "    </tr>\n",
       "    <tr>\n",
       "      <th>2</th>\n",
       "      <td>2</td>\n",
       "      <td>2020-04-10</td>\n",
       "      <td>3903868</td>\n",
       "      <td>2020/04/10</td>\n",
       "      <td>4473252</td>\n",
       "    </tr>\n",
       "    <tr>\n",
       "      <th>3</th>\n",
       "      <td>3</td>\n",
       "      <td>2020-04-11</td>\n",
       "      <td>3853462</td>\n",
       "      <td>2020/04/11</td>\n",
       "      <td>4442300</td>\n",
       "    </tr>\n",
       "    <tr>\n",
       "      <th>4</th>\n",
       "      <td>4</td>\n",
       "      <td>2020-04-12</td>\n",
       "      <td>3941327</td>\n",
       "      <td>2020/04/12</td>\n",
       "      <td>4415261</td>\n",
       "    </tr>\n",
       "    <tr>\n",
       "      <th>...</th>\n",
       "      <td>...</td>\n",
       "      <td>...</td>\n",
       "      <td>...</td>\n",
       "      <td>...</td>\n",
       "      <td>...</td>\n",
       "    </tr>\n",
       "    <tr>\n",
       "      <th>195</th>\n",
       "      <td>195</td>\n",
       "      <td>2020-10-20</td>\n",
       "      <td>5803452</td>\n",
       "      <td>2020/10/20</td>\n",
       "      <td>5424806</td>\n",
       "    </tr>\n",
       "    <tr>\n",
       "      <th>196</th>\n",
       "      <td>196</td>\n",
       "      <td>2020-10-21</td>\n",
       "      <td>5934796</td>\n",
       "      <td>2020/10/21</td>\n",
       "      <td>5451299</td>\n",
       "    </tr>\n",
       "    <tr>\n",
       "      <th>197</th>\n",
       "      <td>197</td>\n",
       "      <td>2020-10-22</td>\n",
       "      <td>5916807</td>\n",
       "      <td>2020/10/22</td>\n",
       "      <td>5475026</td>\n",
       "    </tr>\n",
       "    <tr>\n",
       "      <th>198</th>\n",
       "      <td>198</td>\n",
       "      <td>2020-10-23</td>\n",
       "      <td>5729726</td>\n",
       "      <td>2020/10/23</td>\n",
       "      <td>5490737</td>\n",
       "    </tr>\n",
       "    <tr>\n",
       "      <th>199</th>\n",
       "      <td>199</td>\n",
       "      <td>2020-10-24</td>\n",
       "      <td>5582513</td>\n",
       "      <td>2020/10/24</td>\n",
       "      <td>5501892</td>\n",
       "    </tr>\n",
       "  </tbody>\n",
       "</table>\n",
       "<p>200 rows × 5 columns</p>\n",
       "</div>"
      ],
      "text/plain": [
       "     Index Timestamps_close    Close Timestamps_average  Average\n",
       "0        0       2020-04-08  4134618         2020/04/08  4522980\n",
       "1        1       2020-04-09  4009639         2020/04/09  4501601\n",
       "2        2       2020-04-10  3903868         2020/04/10  4473252\n",
       "3        3       2020-04-11  3853462         2020/04/11  4442300\n",
       "4        4       2020-04-12  3941327         2020/04/12  4415261\n",
       "..     ...              ...      ...                ...      ...\n",
       "195    195       2020-10-20  5803452         2020/10/20  5424806\n",
       "196    196       2020-10-21  5934796         2020/10/21  5451299\n",
       "197    197       2020-10-22  5916807         2020/10/22  5475026\n",
       "198    198       2020-10-23  5729726         2020/10/23  5490737\n",
       "199    199       2020-10-24  5582513         2020/10/24  5501892\n",
       "\n",
       "[200 rows x 5 columns]"
      ]
     },
     "execution_count": 11,
     "metadata": {},
     "output_type": "execute_result"
    }
   ],
   "source": [
    "bond_df"
   ]
  },
  {
   "cell_type": "markdown",
   "metadata": {},
   "source": [
    "## Several Operations ##\n",
    "\n",
    "- Remove the useless columns, Index and one of the timestamps columns\n",
    "- Change the timestamps datatype from str to pd.Timestamp\n",
    "- Rename the index\n",
    "- Rename the columns (with units!)"
   ]
  },
  {
   "cell_type": "code",
   "execution_count": 12,
   "metadata": {},
   "outputs": [
    {
     "data": {
      "text/html": [
       "<div>\n",
       "<style scoped>\n",
       "    .dataframe tbody tr th:only-of-type {\n",
       "        vertical-align: middle;\n",
       "    }\n",
       "\n",
       "    .dataframe tbody tr th {\n",
       "        vertical-align: top;\n",
       "    }\n",
       "\n",
       "    .dataframe thead th {\n",
       "        text-align: right;\n",
       "    }\n",
       "</style>\n",
       "<table border=\"1\" class=\"dataframe\">\n",
       "  <thead>\n",
       "    <tr style=\"text-align: right;\">\n",
       "      <th></th>\n",
       "      <th>Close (GP)</th>\n",
       "      <th>Average (GP)</th>\n",
       "    </tr>\n",
       "    <tr>\n",
       "      <th>Date</th>\n",
       "      <th></th>\n",
       "      <th></th>\n",
       "    </tr>\n",
       "  </thead>\n",
       "  <tbody>\n",
       "    <tr>\n",
       "      <th>2020-04-08</th>\n",
       "      <td>4134618</td>\n",
       "      <td>4522980</td>\n",
       "    </tr>\n",
       "    <tr>\n",
       "      <th>2020-04-09</th>\n",
       "      <td>4009639</td>\n",
       "      <td>4501601</td>\n",
       "    </tr>\n",
       "    <tr>\n",
       "      <th>2020-04-10</th>\n",
       "      <td>3903868</td>\n",
       "      <td>4473252</td>\n",
       "    </tr>\n",
       "    <tr>\n",
       "      <th>2020-04-11</th>\n",
       "      <td>3853462</td>\n",
       "      <td>4442300</td>\n",
       "    </tr>\n",
       "    <tr>\n",
       "      <th>2020-04-12</th>\n",
       "      <td>3941327</td>\n",
       "      <td>4415261</td>\n",
       "    </tr>\n",
       "    <tr>\n",
       "      <th>...</th>\n",
       "      <td>...</td>\n",
       "      <td>...</td>\n",
       "    </tr>\n",
       "    <tr>\n",
       "      <th>2020-10-20</th>\n",
       "      <td>5803452</td>\n",
       "      <td>5424806</td>\n",
       "    </tr>\n",
       "    <tr>\n",
       "      <th>2020-10-21</th>\n",
       "      <td>5934796</td>\n",
       "      <td>5451299</td>\n",
       "    </tr>\n",
       "    <tr>\n",
       "      <th>2020-10-22</th>\n",
       "      <td>5916807</td>\n",
       "      <td>5475026</td>\n",
       "    </tr>\n",
       "    <tr>\n",
       "      <th>2020-10-23</th>\n",
       "      <td>5729726</td>\n",
       "      <td>5490737</td>\n",
       "    </tr>\n",
       "    <tr>\n",
       "      <th>2020-10-24</th>\n",
       "      <td>5582513</td>\n",
       "      <td>5501892</td>\n",
       "    </tr>\n",
       "  </tbody>\n",
       "</table>\n",
       "<p>200 rows × 2 columns</p>\n",
       "</div>"
      ],
      "text/plain": [
       "            Close (GP)  Average (GP)\n",
       "Date                                \n",
       "2020-04-08     4134618       4522980\n",
       "2020-04-09     4009639       4501601\n",
       "2020-04-10     3903868       4473252\n",
       "2020-04-11     3853462       4442300\n",
       "2020-04-12     3941327       4415261\n",
       "...                ...           ...\n",
       "2020-10-20     5803452       5424806\n",
       "2020-10-21     5934796       5451299\n",
       "2020-10-22     5916807       5475026\n",
       "2020-10-23     5729726       5490737\n",
       "2020-10-24     5582513       5501892\n",
       "\n",
       "[200 rows x 2 columns]"
      ]
     },
     "execution_count": 12,
     "metadata": {},
     "output_type": "execute_result"
    }
   ],
   "source": [
    "#remove to index by date instead\n",
    "bond_df = bond_df.drop(\"Index\", axis=1)\n",
    "#remove redundant timestamps\n",
    "bond_df = bond_df.drop(\"Timestamps_average\", axis=1)\n",
    "#set the index to pd.Timestamp objects\n",
    "bond_df = bond_df.set_index(\"Timestamps_close\")\n",
    "#rename the index \n",
    "bond_df.index.name = \"Date\"\n",
    "#rename the columns\n",
    "bond_df.columns = [\"Close (GP)\", \"Average (GP)\"]\n",
    "bond_df"
   ]
  },
  {
   "cell_type": "code",
   "execution_count": 13,
   "metadata": {
    "scrolled": true
   },
   "outputs": [
    {
     "name": "stdout",
     "output_type": "stream",
     "text": [
      "<class 'pandas.core.frame.DataFrame'>\n",
      "DatetimeIndex: 200 entries, 2020-04-08 to 2020-10-24\n",
      "Data columns (total 2 columns):\n",
      " #   Column        Non-Null Count  Dtype\n",
      "---  ------        --------------  -----\n",
      " 0   Close (GP)    200 non-null    int64\n",
      " 1   Average (GP)  200 non-null    int64\n",
      "dtypes: int64(2)\n",
      "memory usage: 4.7 KB\n"
     ]
    }
   ],
   "source": [
    "bond_df.info()"
   ]
  },
  {
   "cell_type": "markdown",
   "metadata": {},
   "source": [
    "No missing values and datatypes are as expected"
   ]
  },
  {
   "cell_type": "markdown",
   "metadata": {},
   "source": [
    "## Red Chinchompas ##"
   ]
  },
  {
   "cell_type": "code",
   "execution_count": 14,
   "metadata": {},
   "outputs": [],
   "source": [
    "#the longest red chinchompas dataset as a csv\n",
    "rchins = pd.read_csv(\"hist_data/red_chinchompa_appended.csv\")\n",
    "rchins_copy = rchins.copy()"
   ]
  },
  {
   "cell_type": "code",
   "execution_count": 15,
   "metadata": {},
   "outputs": [
    {
     "data": {
      "text/html": [
       "<div>\n",
       "<style scoped>\n",
       "    .dataframe tbody tr th:only-of-type {\n",
       "        vertical-align: middle;\n",
       "    }\n",
       "\n",
       "    .dataframe tbody tr th {\n",
       "        vertical-align: top;\n",
       "    }\n",
       "\n",
       "    .dataframe thead th {\n",
       "        text-align: right;\n",
       "    }\n",
       "</style>\n",
       "<table border=\"1\" class=\"dataframe\">\n",
       "  <thead>\n",
       "    <tr style=\"text-align: right;\">\n",
       "      <th></th>\n",
       "      <th>Index</th>\n",
       "      <th>Item Timestamps</th>\n",
       "      <th>Timestamps_close</th>\n",
       "      <th>Close</th>\n",
       "      <th>Timestamps_average</th>\n",
       "      <th>Average</th>\n",
       "      <th>Timestamps</th>\n",
       "      <th>Volume</th>\n",
       "    </tr>\n",
       "  </thead>\n",
       "  <tbody>\n",
       "    <tr>\n",
       "      <th>195</th>\n",
       "      <td>195</td>\n",
       "      <td>2020/10/20</td>\n",
       "      <td>2020/10/20</td>\n",
       "      <td>1182</td>\n",
       "      <td>2020/10/20</td>\n",
       "      <td>1105</td>\n",
       "      <td>2020/10/20</td>\n",
       "      <td>8191571.0</td>\n",
       "    </tr>\n",
       "    <tr>\n",
       "      <th>196</th>\n",
       "      <td>196</td>\n",
       "      <td>2020/10/21</td>\n",
       "      <td>2020/10/21</td>\n",
       "      <td>1168</td>\n",
       "      <td>2020/10/21</td>\n",
       "      <td>1103</td>\n",
       "      <td>2020/10/21</td>\n",
       "      <td>9429012.0</td>\n",
       "    </tr>\n",
       "    <tr>\n",
       "      <th>197</th>\n",
       "      <td>197</td>\n",
       "      <td>2020/10/22</td>\n",
       "      <td>2020/10/22</td>\n",
       "      <td>1155</td>\n",
       "      <td>2020/10/22</td>\n",
       "      <td>1101</td>\n",
       "      <td>2020/10/22</td>\n",
       "      <td>6979693.0</td>\n",
       "    </tr>\n",
       "    <tr>\n",
       "      <th>198</th>\n",
       "      <td>198</td>\n",
       "      <td>2020/10/23</td>\n",
       "      <td>2020/10/23</td>\n",
       "      <td>1145</td>\n",
       "      <td>2020/10/23</td>\n",
       "      <td>1099</td>\n",
       "      <td>2020/10/23</td>\n",
       "      <td>5877863.0</td>\n",
       "    </tr>\n",
       "    <tr>\n",
       "      <th>199</th>\n",
       "      <td>199</td>\n",
       "      <td>2020/10/24</td>\n",
       "      <td>2020/10/24</td>\n",
       "      <td>1137</td>\n",
       "      <td>2020/10/24</td>\n",
       "      <td>1098</td>\n",
       "      <td>2020/10/24</td>\n",
       "      <td>6976954.0</td>\n",
       "    </tr>\n",
       "  </tbody>\n",
       "</table>\n",
       "</div>"
      ],
      "text/plain": [
       "     Index Item Timestamps Timestamps_close  Close Timestamps_average  \\\n",
       "195    195      2020/10/20       2020/10/20   1182         2020/10/20   \n",
       "196    196      2020/10/21       2020/10/21   1168         2020/10/21   \n",
       "197    197      2020/10/22       2020/10/22   1155         2020/10/22   \n",
       "198    198      2020/10/23       2020/10/23   1145         2020/10/23   \n",
       "199    199      2020/10/24       2020/10/24   1137         2020/10/24   \n",
       "\n",
       "     Average  Timestamps     Volume  \n",
       "195     1105  2020/10/20  8191571.0  \n",
       "196     1103  2020/10/21  9429012.0  \n",
       "197     1101  2020/10/22  6979693.0  \n",
       "198     1099  2020/10/23  5877863.0  \n",
       "199     1098  2020/10/24  6976954.0  "
      ]
     },
     "execution_count": 15,
     "metadata": {},
     "output_type": "execute_result"
    }
   ],
   "source": [
    "rchins.tail() #ends on Oct. 24 2020"
   ]
  },
  {
   "cell_type": "markdown",
   "metadata": {},
   "source": [
    "**Problems**\n",
    "- There are 4 timestamp columns that I assume are all identical\n",
    "- The second index column has a weird name \"Unnamed:0\"\n",
    "- Volume is a decimal (probably float) but close and average look like ints"
   ]
  },
  {
   "cell_type": "markdown",
   "metadata": {},
   "source": [
    "### Timestamps Problem ###"
   ]
  },
  {
   "cell_type": "code",
   "execution_count": 16,
   "metadata": {},
   "outputs": [
    {
     "name": "stdout",
     "output_type": "stream",
     "text": [
      "Series([], dtype: bool)\n",
      "Series([], dtype: bool)\n",
      "Series([], dtype: bool)\n",
      "Series([], dtype: bool)\n",
      "Series([], dtype: bool)\n",
      "Series([], dtype: bool)\n",
      "Series([], dtype: bool)\n",
      "Series([], dtype: bool)\n",
      "Series([], dtype: bool)\n",
      "Series([], dtype: bool)\n",
      "Series([], dtype: bool)\n",
      "Series([], dtype: bool)\n"
     ]
    }
   ],
   "source": [
    "item_t = rchins[\"Item Timestamps\"]\n",
    "close_t = rchins[\"Timestamps_close\"]\n",
    "avg_t = rchins[\"Timestamps_average\"]\n",
    "t = rchins[\"Timestamps\"]\n",
    "\n",
    "from itertools import permutations\n",
    "perm = permutations([item_t, close_t, avg_t, t], 2)\n",
    "for i in list(perm):\n",
    "    comparison_srs = i[0]==i[1]\n",
    "    print(comparison_srs[comparison_srs==False])"
   ]
  },
  {
   "cell_type": "markdown",
   "metadata": {},
   "source": [
    "### Dropping Redundant Timestamps ###"
   ]
  },
  {
   "cell_type": "code",
   "execution_count": 17,
   "metadata": {},
   "outputs": [
    {
     "data": {
      "text/html": [
       "<div>\n",
       "<style scoped>\n",
       "    .dataframe tbody tr th:only-of-type {\n",
       "        vertical-align: middle;\n",
       "    }\n",
       "\n",
       "    .dataframe tbody tr th {\n",
       "        vertical-align: top;\n",
       "    }\n",
       "\n",
       "    .dataframe thead th {\n",
       "        text-align: right;\n",
       "    }\n",
       "</style>\n",
       "<table border=\"1\" class=\"dataframe\">\n",
       "  <thead>\n",
       "    <tr style=\"text-align: right;\">\n",
       "      <th></th>\n",
       "      <th>Index</th>\n",
       "      <th>Close</th>\n",
       "      <th>Average</th>\n",
       "      <th>Timestamps</th>\n",
       "      <th>Volume</th>\n",
       "    </tr>\n",
       "  </thead>\n",
       "  <tbody>\n",
       "    <tr>\n",
       "      <th>0</th>\n",
       "      <td>0</td>\n",
       "      <td>1734</td>\n",
       "      <td>1762</td>\n",
       "      <td>2020/04/08</td>\n",
       "      <td>9968057.0</td>\n",
       "    </tr>\n",
       "    <tr>\n",
       "      <th>1</th>\n",
       "      <td>1</td>\n",
       "      <td>1741</td>\n",
       "      <td>1761</td>\n",
       "      <td>2020/04/09</td>\n",
       "      <td>5868933.0</td>\n",
       "    </tr>\n",
       "    <tr>\n",
       "      <th>2</th>\n",
       "      <td>2</td>\n",
       "      <td>1737</td>\n",
       "      <td>1759</td>\n",
       "      <td>2020/04/10</td>\n",
       "      <td>3882743.0</td>\n",
       "    </tr>\n",
       "    <tr>\n",
       "      <th>3</th>\n",
       "      <td>3</td>\n",
       "      <td>1726</td>\n",
       "      <td>1758</td>\n",
       "      <td>2020/04/11</td>\n",
       "      <td>11836445.0</td>\n",
       "    </tr>\n",
       "    <tr>\n",
       "      <th>4</th>\n",
       "      <td>4</td>\n",
       "      <td>1686</td>\n",
       "      <td>1756</td>\n",
       "      <td>2020/04/12</td>\n",
       "      <td>7549086.0</td>\n",
       "    </tr>\n",
       "  </tbody>\n",
       "</table>\n",
       "</div>"
      ],
      "text/plain": [
       "   Index  Close  Average  Timestamps      Volume\n",
       "0      0   1734     1762  2020/04/08   9968057.0\n",
       "1      1   1741     1761  2020/04/09   5868933.0\n",
       "2      2   1737     1759  2020/04/10   3882743.0\n",
       "3      3   1726     1758  2020/04/11  11836445.0\n",
       "4      4   1686     1756  2020/04/12   7549086.0"
      ]
     },
     "execution_count": 17,
     "metadata": {},
     "output_type": "execute_result"
    }
   ],
   "source": [
    "dropping = [\"Item Timestamps\", \"Timestamps_close\", \"Timestamps_average\"]\n",
    "for col in dropping:\n",
    "    rchins = rchins.drop(col, axis=1)\n",
    "rchins.head()"
   ]
  },
  {
   "cell_type": "markdown",
   "metadata": {},
   "source": [
    "### Dropping the second column of indices ###"
   ]
  },
  {
   "cell_type": "code",
   "execution_count": 18,
   "metadata": {
    "scrolled": true
   },
   "outputs": [
    {
     "data": {
      "text/html": [
       "<div>\n",
       "<style scoped>\n",
       "    .dataframe tbody tr th:only-of-type {\n",
       "        vertical-align: middle;\n",
       "    }\n",
       "\n",
       "    .dataframe tbody tr th {\n",
       "        vertical-align: top;\n",
       "    }\n",
       "\n",
       "    .dataframe thead th {\n",
       "        text-align: right;\n",
       "    }\n",
       "</style>\n",
       "<table border=\"1\" class=\"dataframe\">\n",
       "  <thead>\n",
       "    <tr style=\"text-align: right;\">\n",
       "      <th></th>\n",
       "      <th>Close</th>\n",
       "      <th>Average</th>\n",
       "      <th>Timestamps</th>\n",
       "      <th>Volume</th>\n",
       "    </tr>\n",
       "  </thead>\n",
       "  <tbody>\n",
       "    <tr>\n",
       "      <th>0</th>\n",
       "      <td>1734</td>\n",
       "      <td>1762</td>\n",
       "      <td>2020/04/08</td>\n",
       "      <td>9968057.0</td>\n",
       "    </tr>\n",
       "    <tr>\n",
       "      <th>1</th>\n",
       "      <td>1741</td>\n",
       "      <td>1761</td>\n",
       "      <td>2020/04/09</td>\n",
       "      <td>5868933.0</td>\n",
       "    </tr>\n",
       "    <tr>\n",
       "      <th>2</th>\n",
       "      <td>1737</td>\n",
       "      <td>1759</td>\n",
       "      <td>2020/04/10</td>\n",
       "      <td>3882743.0</td>\n",
       "    </tr>\n",
       "    <tr>\n",
       "      <th>3</th>\n",
       "      <td>1726</td>\n",
       "      <td>1758</td>\n",
       "      <td>2020/04/11</td>\n",
       "      <td>11836445.0</td>\n",
       "    </tr>\n",
       "    <tr>\n",
       "      <th>4</th>\n",
       "      <td>1686</td>\n",
       "      <td>1756</td>\n",
       "      <td>2020/04/12</td>\n",
       "      <td>7549086.0</td>\n",
       "    </tr>\n",
       "  </tbody>\n",
       "</table>\n",
       "</div>"
      ],
      "text/plain": [
       "   Close  Average  Timestamps      Volume\n",
       "0   1734     1762  2020/04/08   9968057.0\n",
       "1   1741     1761  2020/04/09   5868933.0\n",
       "2   1737     1759  2020/04/10   3882743.0\n",
       "3   1726     1758  2020/04/11  11836445.0\n",
       "4   1686     1756  2020/04/12   7549086.0"
      ]
     },
     "execution_count": 18,
     "metadata": {},
     "output_type": "execute_result"
    }
   ],
   "source": [
    "rchins = rchins.drop(\"Index\", axis=1)\n",
    "rchins.head()"
   ]
  },
  {
   "cell_type": "markdown",
   "metadata": {},
   "source": [
    "### Fixing Time/Date Datatype ###"
   ]
  },
  {
   "cell_type": "code",
   "execution_count": 19,
   "metadata": {},
   "outputs": [
    {
     "data": {
      "text/plain": [
       "pandas._libs.tslibs.timestamps.Timestamp"
      ]
     },
     "execution_count": 19,
     "metadata": {},
     "output_type": "execute_result"
    }
   ],
   "source": [
    "rchins[\"Timestamps\"] = pd.to_datetime(rchins[\"Timestamps\"])\n",
    "type(rchins[\"Timestamps\"][8])"
   ]
  },
  {
   "cell_type": "markdown",
   "metadata": {},
   "source": [
    "### Setting Index to Timestamps ###"
   ]
  },
  {
   "cell_type": "code",
   "execution_count": 20,
   "metadata": {},
   "outputs": [
    {
     "data": {
      "text/html": [
       "<div>\n",
       "<style scoped>\n",
       "    .dataframe tbody tr th:only-of-type {\n",
       "        vertical-align: middle;\n",
       "    }\n",
       "\n",
       "    .dataframe tbody tr th {\n",
       "        vertical-align: top;\n",
       "    }\n",
       "\n",
       "    .dataframe thead th {\n",
       "        text-align: right;\n",
       "    }\n",
       "</style>\n",
       "<table border=\"1\" class=\"dataframe\">\n",
       "  <thead>\n",
       "    <tr style=\"text-align: right;\">\n",
       "      <th></th>\n",
       "      <th>Close</th>\n",
       "      <th>Average</th>\n",
       "      <th>Volume</th>\n",
       "    </tr>\n",
       "    <tr>\n",
       "      <th>Timestamps</th>\n",
       "      <th></th>\n",
       "      <th></th>\n",
       "      <th></th>\n",
       "    </tr>\n",
       "  </thead>\n",
       "  <tbody>\n",
       "    <tr>\n",
       "      <th>2020-04-08</th>\n",
       "      <td>1734</td>\n",
       "      <td>1762</td>\n",
       "      <td>9968057.0</td>\n",
       "    </tr>\n",
       "    <tr>\n",
       "      <th>2020-04-09</th>\n",
       "      <td>1741</td>\n",
       "      <td>1761</td>\n",
       "      <td>5868933.0</td>\n",
       "    </tr>\n",
       "    <tr>\n",
       "      <th>2020-04-10</th>\n",
       "      <td>1737</td>\n",
       "      <td>1759</td>\n",
       "      <td>3882743.0</td>\n",
       "    </tr>\n",
       "    <tr>\n",
       "      <th>2020-04-11</th>\n",
       "      <td>1726</td>\n",
       "      <td>1758</td>\n",
       "      <td>11836445.0</td>\n",
       "    </tr>\n",
       "    <tr>\n",
       "      <th>2020-04-12</th>\n",
       "      <td>1686</td>\n",
       "      <td>1756</td>\n",
       "      <td>7549086.0</td>\n",
       "    </tr>\n",
       "    <tr>\n",
       "      <th>...</th>\n",
       "      <td>...</td>\n",
       "      <td>...</td>\n",
       "      <td>...</td>\n",
       "    </tr>\n",
       "    <tr>\n",
       "      <th>2020-10-20</th>\n",
       "      <td>1182</td>\n",
       "      <td>1105</td>\n",
       "      <td>8191571.0</td>\n",
       "    </tr>\n",
       "    <tr>\n",
       "      <th>2020-10-21</th>\n",
       "      <td>1168</td>\n",
       "      <td>1103</td>\n",
       "      <td>9429012.0</td>\n",
       "    </tr>\n",
       "    <tr>\n",
       "      <th>2020-10-22</th>\n",
       "      <td>1155</td>\n",
       "      <td>1101</td>\n",
       "      <td>6979693.0</td>\n",
       "    </tr>\n",
       "    <tr>\n",
       "      <th>2020-10-23</th>\n",
       "      <td>1145</td>\n",
       "      <td>1099</td>\n",
       "      <td>5877863.0</td>\n",
       "    </tr>\n",
       "    <tr>\n",
       "      <th>2020-10-24</th>\n",
       "      <td>1137</td>\n",
       "      <td>1098</td>\n",
       "      <td>6976954.0</td>\n",
       "    </tr>\n",
       "  </tbody>\n",
       "</table>\n",
       "<p>200 rows × 3 columns</p>\n",
       "</div>"
      ],
      "text/plain": [
       "            Close  Average      Volume\n",
       "Timestamps                            \n",
       "2020-04-08   1734     1762   9968057.0\n",
       "2020-04-09   1741     1761   5868933.0\n",
       "2020-04-10   1737     1759   3882743.0\n",
       "2020-04-11   1726     1758  11836445.0\n",
       "2020-04-12   1686     1756   7549086.0\n",
       "...           ...      ...         ...\n",
       "2020-10-20   1182     1105   8191571.0\n",
       "2020-10-21   1168     1103   9429012.0\n",
       "2020-10-22   1155     1101   6979693.0\n",
       "2020-10-23   1145     1099   5877863.0\n",
       "2020-10-24   1137     1098   6976954.0\n",
       "\n",
       "[200 rows x 3 columns]"
      ]
     },
     "execution_count": 20,
     "metadata": {},
     "output_type": "execute_result"
    }
   ],
   "source": [
    "rchins = rchins.set_index(\"Timestamps\")\n",
    "rchins"
   ]
  },
  {
   "cell_type": "markdown",
   "metadata": {},
   "source": [
    "### Renaming Columns ###"
   ]
  },
  {
   "cell_type": "code",
   "execution_count": 21,
   "metadata": {},
   "outputs": [
    {
     "data": {
      "text/html": [
       "<div>\n",
       "<style scoped>\n",
       "    .dataframe tbody tr th:only-of-type {\n",
       "        vertical-align: middle;\n",
       "    }\n",
       "\n",
       "    .dataframe tbody tr th {\n",
       "        vertical-align: top;\n",
       "    }\n",
       "\n",
       "    .dataframe thead th {\n",
       "        text-align: right;\n",
       "    }\n",
       "</style>\n",
       "<table border=\"1\" class=\"dataframe\">\n",
       "  <thead>\n",
       "    <tr style=\"text-align: right;\">\n",
       "      <th></th>\n",
       "      <th>Close (GP)</th>\n",
       "      <th>Average (GP)</th>\n",
       "      <th>Volume (Sold)</th>\n",
       "    </tr>\n",
       "    <tr>\n",
       "      <th>Date</th>\n",
       "      <th></th>\n",
       "      <th></th>\n",
       "      <th></th>\n",
       "    </tr>\n",
       "  </thead>\n",
       "  <tbody>\n",
       "    <tr>\n",
       "      <th>2020-04-08</th>\n",
       "      <td>1734</td>\n",
       "      <td>1762</td>\n",
       "      <td>9968057.0</td>\n",
       "    </tr>\n",
       "    <tr>\n",
       "      <th>2020-04-09</th>\n",
       "      <td>1741</td>\n",
       "      <td>1761</td>\n",
       "      <td>5868933.0</td>\n",
       "    </tr>\n",
       "    <tr>\n",
       "      <th>2020-04-10</th>\n",
       "      <td>1737</td>\n",
       "      <td>1759</td>\n",
       "      <td>3882743.0</td>\n",
       "    </tr>\n",
       "    <tr>\n",
       "      <th>2020-04-11</th>\n",
       "      <td>1726</td>\n",
       "      <td>1758</td>\n",
       "      <td>11836445.0</td>\n",
       "    </tr>\n",
       "    <tr>\n",
       "      <th>2020-04-12</th>\n",
       "      <td>1686</td>\n",
       "      <td>1756</td>\n",
       "      <td>7549086.0</td>\n",
       "    </tr>\n",
       "    <tr>\n",
       "      <th>...</th>\n",
       "      <td>...</td>\n",
       "      <td>...</td>\n",
       "      <td>...</td>\n",
       "    </tr>\n",
       "    <tr>\n",
       "      <th>2020-10-20</th>\n",
       "      <td>1182</td>\n",
       "      <td>1105</td>\n",
       "      <td>8191571.0</td>\n",
       "    </tr>\n",
       "    <tr>\n",
       "      <th>2020-10-21</th>\n",
       "      <td>1168</td>\n",
       "      <td>1103</td>\n",
       "      <td>9429012.0</td>\n",
       "    </tr>\n",
       "    <tr>\n",
       "      <th>2020-10-22</th>\n",
       "      <td>1155</td>\n",
       "      <td>1101</td>\n",
       "      <td>6979693.0</td>\n",
       "    </tr>\n",
       "    <tr>\n",
       "      <th>2020-10-23</th>\n",
       "      <td>1145</td>\n",
       "      <td>1099</td>\n",
       "      <td>5877863.0</td>\n",
       "    </tr>\n",
       "    <tr>\n",
       "      <th>2020-10-24</th>\n",
       "      <td>1137</td>\n",
       "      <td>1098</td>\n",
       "      <td>6976954.0</td>\n",
       "    </tr>\n",
       "  </tbody>\n",
       "</table>\n",
       "<p>200 rows × 3 columns</p>\n",
       "</div>"
      ],
      "text/plain": [
       "            Close (GP)  Average (GP)  Volume (Sold)\n",
       "Date                                               \n",
       "2020-04-08        1734          1762      9968057.0\n",
       "2020-04-09        1741          1761      5868933.0\n",
       "2020-04-10        1737          1759      3882743.0\n",
       "2020-04-11        1726          1758     11836445.0\n",
       "2020-04-12        1686          1756      7549086.0\n",
       "...                ...           ...            ...\n",
       "2020-10-20        1182          1105      8191571.0\n",
       "2020-10-21        1168          1103      9429012.0\n",
       "2020-10-22        1155          1101      6979693.0\n",
       "2020-10-23        1145          1099      5877863.0\n",
       "2020-10-24        1137          1098      6976954.0\n",
       "\n",
       "[200 rows x 3 columns]"
      ]
     },
     "execution_count": 21,
     "metadata": {},
     "output_type": "execute_result"
    }
   ],
   "source": [
    "rchins.index.name = \"Date\"\n",
    "rchins.columns = [\"Close (GP)\", \"Average (GP)\", \"Volume (Sold)\"]\n",
    "rchins"
   ]
  },
  {
   "cell_type": "markdown",
   "metadata": {},
   "source": [
    "### Checking Column Datatypes ###"
   ]
  },
  {
   "cell_type": "code",
   "execution_count": 22,
   "metadata": {},
   "outputs": [
    {
     "name": "stdout",
     "output_type": "stream",
     "text": [
      "<class 'pandas.core.frame.DataFrame'>\n",
      "DatetimeIndex: 200 entries, 2020-04-08 to 2020-10-24\n",
      "Data columns (total 3 columns):\n",
      " #   Column         Non-Null Count  Dtype  \n",
      "---  ------         --------------  -----  \n",
      " 0   Close (GP)     200 non-null    int64  \n",
      " 1   Average (GP)   200 non-null    int64  \n",
      " 2   Volume (Sold)  200 non-null    float64\n",
      "dtypes: float64(1), int64(2)\n",
      "memory usage: 6.2 KB\n"
     ]
    }
   ],
   "source": [
    "rchins.info()"
   ]
  },
  {
   "cell_type": "markdown",
   "metadata": {},
   "source": [
    "Since units sold can't be fractional, let's set the datatype of volume to int"
   ]
  },
  {
   "cell_type": "code",
   "execution_count": 23,
   "metadata": {},
   "outputs": [
    {
     "name": "stdout",
     "output_type": "stream",
     "text": [
      "<class 'pandas.core.frame.DataFrame'>\n",
      "DatetimeIndex: 200 entries, 2020-04-08 to 2020-10-24\n",
      "Data columns (total 3 columns):\n",
      " #   Column         Non-Null Count  Dtype\n",
      "---  ------         --------------  -----\n",
      " 0   Close (GP)     200 non-null    int64\n",
      " 1   Average (GP)   200 non-null    int64\n",
      " 2   Volume (Sold)  200 non-null    int64\n",
      "dtypes: int64(3)\n",
      "memory usage: 6.2 KB\n"
     ]
    }
   ],
   "source": [
    "rchins[\"Volume (Sold)\"] = rchins[\"Volume (Sold)\"].astype(\"int\")\n",
    "rchins.info()"
   ]
  },
  {
   "cell_type": "markdown",
   "metadata": {},
   "source": [
    "# Defining Helper Functions #\n",
    "\n",
    "Since Old School Bonds do not have a volume column, there will be separate helper functions for Old School Bonds and the remaining items.\n",
    "\n",
    "## Cleaning Functions ##"
   ]
  },
  {
   "cell_type": "code",
   "execution_count": 24,
   "metadata": {},
   "outputs": [],
   "source": [
    "def clean_bond_data(bond_data):\n",
    "    #data transformations\n",
    "    \n",
    "    #use the old Timestamps_close column for timestamps\n",
    "    #convert datatype to pd.Timestamp\n",
    "    bond_data[\"Timestamps_close\"] = pd.to_datetime(bond_data[\"Timestamps_close\"])\n",
    "    \n",
    "    #remove to index by date instead\n",
    "    bond_data = bond_data.drop(\"Index\", axis=1)\n",
    "    #remove redundant timestamps columns\n",
    "    bond_data = bond_data.drop(\"Timestamps_average\", axis=1)\n",
    "    \n",
    "    #set the index to pd.Timestamp objects\n",
    "    bond_data = bond_data.set_index(\"Timestamps_close\")\n",
    "    #rename the index \n",
    "    bond_data.index.name = \"Date\"\n",
    "    #rename the columns\n",
    "    bond_data.columns = [\"Close (GP)\", \"Average (GP)\"]\n",
    "\n",
    "    return bond_data"
   ]
  },
  {
   "cell_type": "code",
   "execution_count": 25,
   "metadata": {},
   "outputs": [],
   "source": [
    "def clean_item_data(item_data):\n",
    "    #data transformations\n",
    "    \n",
    "    #drop many redundant timestamps columns\n",
    "    dropping = [\"Item Timestamps\", \"Timestamps_close\", \"Timestamps_average\"]\n",
    "    for col in dropping:\n",
    "        item_data = item_data.drop(col, axis=1)\n",
    "    \n",
    "    #dropping the second indices column\n",
    "    item_data = item_data.drop(\"Index\", axis=1)\n",
    "    \n",
    "    #convert timestamps column to pd.Timestamp objects\n",
    "    item_data[\"Timestamps\"] = pd.to_datetime(item_data[\"Timestamps\"])\n",
    "    \n",
    "    #index by Timestamps\n",
    "    item_data = item_data.set_index(\"Timestamps\")\n",
    "    \n",
    "    #renaming columns\n",
    "    item_data.index.name = \"Date\"\n",
    "    item_data.columns = [\"Close (GP)\", \"Average (GP)\", \"Volume (Sold)\"]\n",
    "    \n",
    "    #convert volume dtype to int\n",
    "    item_data[\"Volume (Sold)\"] = item_data[\"Volume (Sold)\"].astype(\"int\")\n",
    "    \n",
    "    return item_data"
   ]
  },
  {
   "cell_type": "code",
   "execution_count": 26,
   "metadata": {},
   "outputs": [
    {
     "data": {
      "text/html": [
       "<div>\n",
       "<style scoped>\n",
       "    .dataframe tbody tr th:only-of-type {\n",
       "        vertical-align: middle;\n",
       "    }\n",
       "\n",
       "    .dataframe tbody tr th {\n",
       "        vertical-align: top;\n",
       "    }\n",
       "\n",
       "    .dataframe thead th {\n",
       "        text-align: right;\n",
       "    }\n",
       "</style>\n",
       "<table border=\"1\" class=\"dataframe\">\n",
       "  <thead>\n",
       "    <tr style=\"text-align: right;\">\n",
       "      <th></th>\n",
       "      <th>Close (GP)</th>\n",
       "      <th>Average (GP)</th>\n",
       "    </tr>\n",
       "    <tr>\n",
       "      <th>Date</th>\n",
       "      <th></th>\n",
       "      <th></th>\n",
       "    </tr>\n",
       "  </thead>\n",
       "  <tbody>\n",
       "    <tr>\n",
       "      <th>2020-04-08</th>\n",
       "      <td>4134618</td>\n",
       "      <td>4522980</td>\n",
       "    </tr>\n",
       "    <tr>\n",
       "      <th>2020-04-09</th>\n",
       "      <td>4009639</td>\n",
       "      <td>4501601</td>\n",
       "    </tr>\n",
       "    <tr>\n",
       "      <th>2020-04-10</th>\n",
       "      <td>3903868</td>\n",
       "      <td>4473252</td>\n",
       "    </tr>\n",
       "    <tr>\n",
       "      <th>2020-04-11</th>\n",
       "      <td>3853462</td>\n",
       "      <td>4442300</td>\n",
       "    </tr>\n",
       "    <tr>\n",
       "      <th>2020-04-12</th>\n",
       "      <td>3941327</td>\n",
       "      <td>4415261</td>\n",
       "    </tr>\n",
       "    <tr>\n",
       "      <th>...</th>\n",
       "      <td>...</td>\n",
       "      <td>...</td>\n",
       "    </tr>\n",
       "    <tr>\n",
       "      <th>2020-10-20</th>\n",
       "      <td>5803452</td>\n",
       "      <td>5424806</td>\n",
       "    </tr>\n",
       "    <tr>\n",
       "      <th>2020-10-21</th>\n",
       "      <td>5934796</td>\n",
       "      <td>5451299</td>\n",
       "    </tr>\n",
       "    <tr>\n",
       "      <th>2020-10-22</th>\n",
       "      <td>5916807</td>\n",
       "      <td>5475026</td>\n",
       "    </tr>\n",
       "    <tr>\n",
       "      <th>2020-10-23</th>\n",
       "      <td>5729726</td>\n",
       "      <td>5490737</td>\n",
       "    </tr>\n",
       "    <tr>\n",
       "      <th>2020-10-24</th>\n",
       "      <td>5582513</td>\n",
       "      <td>5501892</td>\n",
       "    </tr>\n",
       "  </tbody>\n",
       "</table>\n",
       "<p>200 rows × 2 columns</p>\n",
       "</div>"
      ],
      "text/plain": [
       "            Close (GP)  Average (GP)\n",
       "Date                                \n",
       "2020-04-08     4134618       4522980\n",
       "2020-04-09     4009639       4501601\n",
       "2020-04-10     3903868       4473252\n",
       "2020-04-11     3853462       4442300\n",
       "2020-04-12     3941327       4415261\n",
       "...                ...           ...\n",
       "2020-10-20     5803452       5424806\n",
       "2020-10-21     5934796       5451299\n",
       "2020-10-22     5916807       5475026\n",
       "2020-10-23     5729726       5490737\n",
       "2020-10-24     5582513       5501892\n",
       "\n",
       "[200 rows x 2 columns]"
      ]
     },
     "execution_count": 26,
     "metadata": {},
     "output_type": "execute_result"
    }
   ],
   "source": [
    "clean_bond_data(bond_df_copy)"
   ]
  },
  {
   "cell_type": "code",
   "execution_count": 27,
   "metadata": {
    "scrolled": true
   },
   "outputs": [
    {
     "data": {
      "text/html": [
       "<div>\n",
       "<style scoped>\n",
       "    .dataframe tbody tr th:only-of-type {\n",
       "        vertical-align: middle;\n",
       "    }\n",
       "\n",
       "    .dataframe tbody tr th {\n",
       "        vertical-align: top;\n",
       "    }\n",
       "\n",
       "    .dataframe thead th {\n",
       "        text-align: right;\n",
       "    }\n",
       "</style>\n",
       "<table border=\"1\" class=\"dataframe\">\n",
       "  <thead>\n",
       "    <tr style=\"text-align: right;\">\n",
       "      <th></th>\n",
       "      <th>Close (GP)</th>\n",
       "      <th>Average (GP)</th>\n",
       "      <th>Volume (Sold)</th>\n",
       "    </tr>\n",
       "    <tr>\n",
       "      <th>Date</th>\n",
       "      <th></th>\n",
       "      <th></th>\n",
       "      <th></th>\n",
       "    </tr>\n",
       "  </thead>\n",
       "  <tbody>\n",
       "    <tr>\n",
       "      <th>2020-04-08</th>\n",
       "      <td>1734</td>\n",
       "      <td>1762</td>\n",
       "      <td>9968057</td>\n",
       "    </tr>\n",
       "    <tr>\n",
       "      <th>2020-04-09</th>\n",
       "      <td>1741</td>\n",
       "      <td>1761</td>\n",
       "      <td>5868933</td>\n",
       "    </tr>\n",
       "    <tr>\n",
       "      <th>2020-04-10</th>\n",
       "      <td>1737</td>\n",
       "      <td>1759</td>\n",
       "      <td>3882743</td>\n",
       "    </tr>\n",
       "    <tr>\n",
       "      <th>2020-04-11</th>\n",
       "      <td>1726</td>\n",
       "      <td>1758</td>\n",
       "      <td>11836445</td>\n",
       "    </tr>\n",
       "    <tr>\n",
       "      <th>2020-04-12</th>\n",
       "      <td>1686</td>\n",
       "      <td>1756</td>\n",
       "      <td>7549086</td>\n",
       "    </tr>\n",
       "    <tr>\n",
       "      <th>...</th>\n",
       "      <td>...</td>\n",
       "      <td>...</td>\n",
       "      <td>...</td>\n",
       "    </tr>\n",
       "    <tr>\n",
       "      <th>2020-10-20</th>\n",
       "      <td>1182</td>\n",
       "      <td>1105</td>\n",
       "      <td>8191571</td>\n",
       "    </tr>\n",
       "    <tr>\n",
       "      <th>2020-10-21</th>\n",
       "      <td>1168</td>\n",
       "      <td>1103</td>\n",
       "      <td>9429012</td>\n",
       "    </tr>\n",
       "    <tr>\n",
       "      <th>2020-10-22</th>\n",
       "      <td>1155</td>\n",
       "      <td>1101</td>\n",
       "      <td>6979693</td>\n",
       "    </tr>\n",
       "    <tr>\n",
       "      <th>2020-10-23</th>\n",
       "      <td>1145</td>\n",
       "      <td>1099</td>\n",
       "      <td>5877863</td>\n",
       "    </tr>\n",
       "    <tr>\n",
       "      <th>2020-10-24</th>\n",
       "      <td>1137</td>\n",
       "      <td>1098</td>\n",
       "      <td>6976954</td>\n",
       "    </tr>\n",
       "  </tbody>\n",
       "</table>\n",
       "<p>200 rows × 3 columns</p>\n",
       "</div>"
      ],
      "text/plain": [
       "            Close (GP)  Average (GP)  Volume (Sold)\n",
       "Date                                               \n",
       "2020-04-08        1734          1762        9968057\n",
       "2020-04-09        1741          1761        5868933\n",
       "2020-04-10        1737          1759        3882743\n",
       "2020-04-11        1726          1758       11836445\n",
       "2020-04-12        1686          1756        7549086\n",
       "...                ...           ...            ...\n",
       "2020-10-20        1182          1105        8191571\n",
       "2020-10-21        1168          1103        9429012\n",
       "2020-10-22        1155          1101        6979693\n",
       "2020-10-23        1145          1099        5877863\n",
       "2020-10-24        1137          1098        6976954\n",
       "\n",
       "[200 rows x 3 columns]"
      ]
     },
     "execution_count": 27,
     "metadata": {},
     "output_type": "execute_result"
    }
   ],
   "source": [
    "clean_item_data(rchins_copy)"
   ]
  },
  {
   "cell_type": "markdown",
   "metadata": {},
   "source": [
    "# Dataset Investigation:  Will our cleaning work? #"
   ]
  },
  {
   "cell_type": "code",
   "execution_count": 28,
   "metadata": {},
   "outputs": [
    {
     "data": {
      "text/plain": [
       "'\\nfor r, d, f in os.walk(\"hist_data/\"):\\n    for file in f:\\n        if \"appended\" in file and \"old\" not in file:\\n            df = pd.read_csv(r+file)\\n            print(f\"NAME:  {file}\\nCOLUMNS: {df.columns}\\n\")\\n            name_prefix = re.sub(\"_appended.csv\",\".csv\", file)\\n            print(f\"PREFIX {name_prefix}\")\\n            clean_df = clean_item_data(df)\\n            display(clean_df.head())\\n            display(clean_df.tail())\\n            clean_df.to_csv(\"clean_data/\"+name_prefix)\\n'"
      ]
     },
     "execution_count": 28,
     "metadata": {},
     "output_type": "execute_result"
    }
   ],
   "source": [
    "#don't need to do this more than once\n",
    "\"\"\"\n",
    "for r, d, f in os.walk(\"hist_data/\"):\n",
    "    for file in f:\n",
    "        if \"appended\" in file and \"old\" not in file:\n",
    "            df = pd.read_csv(r+file)\n",
    "            print(f\"NAME:  {file}\\nCOLUMNS: {df.columns}\\n\")\n",
    "            name_prefix = re.sub(\"_appended.csv\",\".csv\", file)\n",
    "            print(f\"PREFIX {name_prefix}\")\n",
    "            clean_df = clean_item_data(df)\n",
    "            display(clean_df.head())\n",
    "            display(clean_df.tail())\n",
    "            clean_df.to_csv(\"clean_data/\"+name_prefix)\n",
    "\"\"\""
   ]
  },
  {
   "cell_type": "code",
   "execution_count": 29,
   "metadata": {},
   "outputs": [],
   "source": [
    "#don't need to do this more than once\n",
    "#old_school_csv = \"hist_data/old_school_bond_appended.csv\"\n",
    "#clean_bond_data(pd.read_csv(old_school_csv)).to_csv(\"clean_data/old_school_bond.csv\")"
   ]
  }
 ],
 "metadata": {
  "kernelspec": {
   "display_name": "osrs",
   "language": "python",
   "name": "osrs"
  },
  "language_info": {
   "codemirror_mode": {
    "name": "ipython",
    "version": 3
   },
   "file_extension": ".py",
   "mimetype": "text/x-python",
   "name": "python",
   "nbconvert_exporter": "python",
   "pygments_lexer": "ipython3",
   "version": "3.6.4"
  }
 },
 "nbformat": 4,
 "nbformat_minor": 2
}
